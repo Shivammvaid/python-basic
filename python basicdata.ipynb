{
 "cells": [
  {
   "cell_type": "code",
   "execution_count": 2,
   "id": "2c2324a8-b75f-4435-b3b9-c222b061512a",
   "metadata": {},
   "outputs": [],
   "source": [
    "l=[]"
   ]
  },
  {
   "cell_type": "code",
   "execution_count": 3,
   "id": "19f157ac-241c-4774-9681-55130cee88d7",
   "metadata": {},
   "outputs": [
    {
     "data": {
      "text/plain": [
       "list"
      ]
     },
     "execution_count": 3,
     "metadata": {},
     "output_type": "execute_result"
    }
   ],
   "source": [
    "type(l)"
   ]
  },
  {
   "cell_type": "code",
   "execution_count": 4,
   "id": "f9fd135a-3e7c-4a9c-a11b-1d0d80fc667c",
   "metadata": {},
   "outputs": [],
   "source": [
    "l1 = [1,2,3,4,5, \"shivam\" , \"vaid\" , 3+6j, 345.456,True,[3,4,5,6,]]"
   ]
  },
  {
   "cell_type": "code",
   "execution_count": 5,
   "id": "d77acc1b-2e9b-4b05-ba6b-15e37abd47b2",
   "metadata": {},
   "outputs": [
    {
     "data": {
      "text/plain": [
       "[1, 2, 3, 4, 5, 'shivam', 'vaid', (3+6j), 345.456, True, [3, 4, 5, 6]]"
      ]
     },
     "execution_count": 5,
     "metadata": {},
     "output_type": "execute_result"
    }
   ],
   "source": [
    "l1"
   ]
  },
  {
   "cell_type": "code",
   "execution_count": 6,
   "id": "8cb4aaeb-e894-4313-b8d5-60a86079d5d9",
   "metadata": {},
   "outputs": [],
   "source": [
    "s = 'fsfsfsksd1233^^^'"
   ]
  },
  {
   "cell_type": "code",
   "execution_count": 7,
   "id": "a3a52942-db3a-4543-94f1-96ca601da16a",
   "metadata": {},
   "outputs": [
    {
     "data": {
      "text/plain": [
       "list"
      ]
     },
     "execution_count": 7,
     "metadata": {},
     "output_type": "execute_result"
    }
   ],
   "source": [
    "type(l1)"
   ]
  },
  {
   "cell_type": "code",
   "execution_count": 9,
   "id": "fc2ea548-cfca-4665-b254-a5969e3eb928",
   "metadata": {},
   "outputs": [
    {
     "data": {
      "text/plain": [
       "'shivam'"
      ]
     },
     "execution_count": 9,
     "metadata": {},
     "output_type": "execute_result"
    }
   ],
   "source": [
    "l1[5]"
   ]
  },
  {
   "cell_type": "code",
   "execution_count": 10,
   "id": "2f78372c-d0dc-4da8-8538-8e25f0679847",
   "metadata": {},
   "outputs": [
    {
     "data": {
      "text/plain": [
       "[3, 4, 5, 6]"
      ]
     },
     "execution_count": 10,
     "metadata": {},
     "output_type": "execute_result"
    }
   ],
   "source": [
    "l1[-1]"
   ]
  },
  {
   "cell_type": "code",
   "execution_count": 11,
   "id": "ec6bc070-1d1d-4b86-a17a-56b80ec9642e",
   "metadata": {},
   "outputs": [
    {
     "data": {
      "text/plain": [
       "6"
      ]
     },
     "execution_count": 11,
     "metadata": {},
     "output_type": "execute_result"
    }
   ],
   "source": [
    "l1[-1][3]"
   ]
  },
  {
   "cell_type": "code",
   "execution_count": 12,
   "id": "72dc4027-4411-4248-bb8e-45388b7106b4",
   "metadata": {},
   "outputs": [
    {
     "data": {
      "text/plain": [
       "[1, 2, 3, 4, 5]"
      ]
     },
     "execution_count": 12,
     "metadata": {},
     "output_type": "execute_result"
    }
   ],
   "source": [
    "l1[0:5]"
   ]
  },
  {
   "cell_type": "code",
   "execution_count": 13,
   "id": "fa12ff54-8fb0-4d38-9d16-e821b3eac1d9",
   "metadata": {},
   "outputs": [],
   "source": [
    "l2 = [3,4,5,\"pwskills\",\"shiv\"]"
   ]
  },
  {
   "cell_type": "code",
   "execution_count": 14,
   "id": "18106d69-6162-404e-9632-1211c3b29152",
   "metadata": {},
   "outputs": [
    {
     "data": {
      "text/plain": [
       "[1,\n",
       " 2,\n",
       " 3,\n",
       " 4,\n",
       " 5,\n",
       " 'shivam',\n",
       " 'vaid',\n",
       " (3+6j),\n",
       " 345.456,\n",
       " True,\n",
       " [3, 4, 5, 6],\n",
       " 3,\n",
       " 4,\n",
       " 5,\n",
       " 'pwskills',\n",
       " 'shiv']"
      ]
     },
     "execution_count": 14,
     "metadata": {},
     "output_type": "execute_result"
    }
   ],
   "source": [
    "l1+l2"
   ]
  },
  {
   "cell_type": "code",
   "execution_count": 15,
   "id": "a3f80bd3-6a54-48e0-bb9e-26935b11efef",
   "metadata": {},
   "outputs": [
    {
     "ename": "TypeError",
     "evalue": "can only concatenate list (not \"str\") to list",
     "output_type": "error",
     "traceback": [
      "\u001b[0;31m---------------------------------------------------------------------------\u001b[0m",
      "\u001b[0;31mTypeError\u001b[0m                                 Traceback (most recent call last)",
      "Cell \u001b[0;32mIn[15], line 1\u001b[0m\n\u001b[0;32m----> 1\u001b[0m \u001b[43ml2\u001b[49m\u001b[38;5;241;43m+\u001b[39;49m\u001b[43m \u001b[49m\u001b[38;5;124;43m\"\u001b[39;49m\u001b[38;5;124;43mshiv\u001b[39;49m\u001b[38;5;124;43m\"\u001b[39;49m\n",
      "\u001b[0;31mTypeError\u001b[0m: can only concatenate list (not \"str\") to list"
     ]
    }
   ],
   "source": [
    "l2+ \"shiv\""
   ]
  },
  {
   "cell_type": "code",
   "execution_count": 16,
   "id": "d18132a8-a22c-467c-85a8-ea5541724717",
   "metadata": {},
   "outputs": [
    {
     "data": {
      "text/plain": [
       "['s', 'h', 'i', 'v', 'a', 'm']"
      ]
     },
     "execution_count": 16,
     "metadata": {},
     "output_type": "execute_result"
    }
   ],
   "source": [
    "list(\"shivam\")"
   ]
  },
  {
   "cell_type": "code",
   "execution_count": 17,
   "id": "d86c06b5-a397-4b20-b39c-fb91e97c4eb8",
   "metadata": {},
   "outputs": [
    {
     "ename": "TypeError",
     "evalue": "'int' object is not iterable",
     "output_type": "error",
     "traceback": [
      "\u001b[0;31m---------------------------------------------------------------------------\u001b[0m",
      "\u001b[0;31mTypeError\u001b[0m                                 Traceback (most recent call last)",
      "Cell \u001b[0;32mIn[17], line 1\u001b[0m\n\u001b[0;32m----> 1\u001b[0m \u001b[38;5;28;43mlist\u001b[39;49m\u001b[43m(\u001b[49m\u001b[38;5;241;43m234\u001b[39;49m\u001b[43m)\u001b[49m\n",
      "\u001b[0;31mTypeError\u001b[0m: 'int' object is not iterable"
     ]
    }
   ],
   "source": [
    "list(234)"
   ]
  },
  {
   "cell_type": "code",
   "execution_count": 18,
   "id": "1589612e-28e3-4035-8ce8-8339516c6cd5",
   "metadata": {},
   "outputs": [
    {
     "data": {
      "text/plain": [
       "[3, 4, 5, 'pwskills', 'shiv']"
      ]
     },
     "execution_count": 18,
     "metadata": {},
     "output_type": "execute_result"
    }
   ],
   "source": [
    "l2"
   ]
  },
  {
   "cell_type": "code",
   "execution_count": 20,
   "id": "c71feb42-fc2b-408a-8444-b13073b6e869",
   "metadata": {},
   "outputs": [],
   "source": [
    "l2[0] = 300"
   ]
  },
  {
   "cell_type": "code",
   "execution_count": 21,
   "id": "8871ba0c-83c0-46ec-b519-445a172d1c3c",
   "metadata": {},
   "outputs": [
    {
     "data": {
      "text/plain": [
       "[300, 4, 5, 'pwskills', 'shiv']"
      ]
     },
     "execution_count": 21,
     "metadata": {},
     "output_type": "execute_result"
    }
   ],
   "source": [
    "l2"
   ]
  },
  {
   "cell_type": "code",
   "execution_count": 22,
   "id": "d0bb1c8f-aeaa-4814-896c-6ae368d40de1",
   "metadata": {},
   "outputs": [],
   "source": [
    "t= (1,23,4,\"shiv\",\"vaid\", 4+56j,True)"
   ]
  },
  {
   "cell_type": "code",
   "execution_count": 23,
   "id": "0d1020f2-a983-4433-b84e-d3c08cb646e1",
   "metadata": {},
   "outputs": [
    {
     "data": {
      "text/plain": [
       "tuple"
      ]
     },
     "execution_count": 23,
     "metadata": {},
     "output_type": "execute_result"
    }
   ],
   "source": [
    "type(t)"
   ]
  },
  {
   "cell_type": "code",
   "execution_count": 24,
   "id": "014f0186-47aa-4b17-8d3d-93fafa39af96",
   "metadata": {},
   "outputs": [
    {
     "data": {
      "text/plain": [
       "1"
      ]
     },
     "execution_count": 24,
     "metadata": {},
     "output_type": "execute_result"
    }
   ],
   "source": [
    "t[0]"
   ]
  },
  {
   "cell_type": "code",
   "execution_count": 25,
   "id": "c76d7330-a890-4db4-94d6-9bdeec0fd34d",
   "metadata": {},
   "outputs": [
    {
     "data": {
      "text/plain": [
       "True"
      ]
     },
     "execution_count": 25,
     "metadata": {},
     "output_type": "execute_result"
    }
   ],
   "source": [
    "t[-1]"
   ]
  },
  {
   "cell_type": "code",
   "execution_count": 26,
   "id": "fb236187-407c-4c01-b663-1863dacfc71a",
   "metadata": {},
   "outputs": [
    {
     "data": {
      "text/plain": [
       "(True, (4+56j), 'vaid', 'shiv', 4, 23, 1)"
      ]
     },
     "execution_count": 26,
     "metadata": {},
     "output_type": "execute_result"
    }
   ],
   "source": [
    "t[::-1]"
   ]
  },
  {
   "cell_type": "code",
   "execution_count": 27,
   "id": "a049b6e5-675a-472e-96fc-049216f04a0d",
   "metadata": {},
   "outputs": [
    {
     "data": {
      "text/plain": [
       "(1, 23, 4, 'shiv', 'vaid', (4+56j), True)"
      ]
     },
     "execution_count": 27,
     "metadata": {},
     "output_type": "execute_result"
    }
   ],
   "source": [
    "t"
   ]
  },
  {
   "cell_type": "code",
   "execution_count": 28,
   "id": "717bd1a1-5f2d-4c14-a27b-640a7468c9d0",
   "metadata": {},
   "outputs": [
    {
     "ename": "NameError",
     "evalue": "name 'shivam' is not defined",
     "output_type": "error",
     "traceback": [
      "\u001b[0;31m---------------------------------------------------------------------------\u001b[0m",
      "\u001b[0;31mNameError\u001b[0m                                 Traceback (most recent call last)",
      "Cell \u001b[0;32mIn[28], line 1\u001b[0m\n\u001b[0;32m----> 1\u001b[0m t[\u001b[38;5;241m0\u001b[39m] \u001b[38;5;241m=\u001b[39m \u001b[43mshivam\u001b[49m\n",
      "\u001b[0;31mNameError\u001b[0m: name 'shivam' is not defined"
     ]
    }
   ],
   "source": [
    "t[0] = shivam"
   ]
  },
  {
   "cell_type": "code",
   "execution_count": 29,
   "id": "ffddc250-d109-4e64-970a-3011dc81d463",
   "metadata": {},
   "outputs": [],
   "source": [
    "t1 = (5,6,7,8,9)"
   ]
  },
  {
   "cell_type": "code",
   "execution_count": 30,
   "id": "8702e8e1-a2d9-4d12-a85d-1d64ee694c46",
   "metadata": {},
   "outputs": [
    {
     "data": {
      "text/plain": [
       "(5, 6, 7, 8, 9)"
      ]
     },
     "execution_count": 30,
     "metadata": {},
     "output_type": "execute_result"
    }
   ],
   "source": [
    "\n",
    "t1"
   ]
  },
  {
   "cell_type": "code",
   "execution_count": 32,
   "id": "b992cd1e-4235-4300-9dbe-a3966015c343",
   "metadata": {},
   "outputs": [
    {
     "data": {
      "text/plain": [
       "(1, 23, 4, 'shiv', 'vaid', (4+56j), True, 5, 6, 7, 8, 9)"
      ]
     },
     "execution_count": 32,
     "metadata": {},
     "output_type": "execute_result"
    }
   ],
   "source": [
    "t+t1"
   ]
  },
  {
   "cell_type": "code",
   "execution_count": 33,
   "id": "2e49f941-a1a9-4bf8-80fd-2e4a958a163a",
   "metadata": {},
   "outputs": [
    {
     "data": {
      "text/plain": [
       "(1,\n",
       " 23,\n",
       " 4,\n",
       " 'shiv',\n",
       " 'vaid',\n",
       " (4+56j),\n",
       " True,\n",
       " 1,\n",
       " 23,\n",
       " 4,\n",
       " 'shiv',\n",
       " 'vaid',\n",
       " (4+56j),\n",
       " True)"
      ]
     },
     "execution_count": 33,
     "metadata": {},
     "output_type": "execute_result"
    }
   ],
   "source": [
    "t*2"
   ]
  },
  {
   "cell_type": "code",
   "execution_count": 34,
   "id": "5abc1d3a-2e7f-462d-9734-d23767962279",
   "metadata": {},
   "outputs": [
    {
     "data": {
      "text/plain": [
       "[1, 23, 4, 'shiv', 'vaid', (4+56j), True]"
      ]
     },
     "execution_count": 34,
     "metadata": {},
     "output_type": "execute_result"
    }
   ],
   "source": [
    "list(t)"
   ]
  },
  {
   "cell_type": "code",
   "execution_count": 35,
   "id": "0eaabd96-2494-4880-9345-f3f1e2a85c4b",
   "metadata": {},
   "outputs": [
    {
     "data": {
      "text/plain": [
       "[300, 4, 5, 'pwskills', 'shiv']"
      ]
     },
     "execution_count": 35,
     "metadata": {},
     "output_type": "execute_result"
    }
   ],
   "source": [
    "l2"
   ]
  },
  {
   "cell_type": "code",
   "execution_count": 37,
   "id": "73f24847-0306-4b1f-bc16-ff434ecb6803",
   "metadata": {},
   "outputs": [
    {
     "data": {
      "text/plain": [
       "(300, 4, 5, 'pwskills', 'shiv')"
      ]
     },
     "execution_count": 37,
     "metadata": {},
     "output_type": "execute_result"
    }
   ],
   "source": [
    "tuple(l2)"
   ]
  },
  {
   "cell_type": "code",
   "execution_count": 38,
   "id": "6a084b1c-4baf-4465-aaab-99eb2316f16a",
   "metadata": {},
   "outputs": [
    {
     "data": {
      "text/plain": [
       "7"
      ]
     },
     "execution_count": 38,
     "metadata": {},
     "output_type": "execute_result"
    }
   ],
   "source": [
    "len(t)"
   ]
  },
  {
   "cell_type": "code",
   "execution_count": 39,
   "id": "26945f69-62ce-4791-a71b-ecfc86c0afdf",
   "metadata": {},
   "outputs": [
    {
     "data": {
      "text/plain": [
       "20"
      ]
     },
     "execution_count": 39,
     "metadata": {},
     "output_type": "execute_result"
    }
   ],
   "source": [
    "len(\"shiv               a\")"
   ]
  },
  {
   "cell_type": "code",
   "execution_count": 40,
   "id": "68ab607c-8228-46ed-8c6e-440d0eb8e419",
   "metadata": {},
   "outputs": [
    {
     "data": {
      "text/plain": [
       "11"
      ]
     },
     "execution_count": 40,
     "metadata": {},
     "output_type": "execute_result"
    }
   ],
   "source": [
    "len(l1)"
   ]
  },
  {
   "cell_type": "code",
   "execution_count": 41,
   "id": "38be8113-d3b8-473c-a92b-f38c43d780c3",
   "metadata": {},
   "outputs": [
    {
     "data": {
      "text/plain": [
       "[1, 2, 3, 4, 5, 'shivam', 'vaid', (3+6j), 345.456, True, [3, 4, 5, 6]]"
      ]
     },
     "execution_count": 41,
     "metadata": {},
     "output_type": "execute_result"
    }
   ],
   "source": [
    "l1"
   ]
  },
  {
   "cell_type": "code",
   "execution_count": 42,
   "id": "825e06fc-3d1e-4e7b-ad8e-eb5052c82632",
   "metadata": {},
   "outputs": [],
   "source": [
    "s = {}"
   ]
  },
  {
   "cell_type": "code",
   "execution_count": 44,
   "id": "169d28c4-d86b-46ce-ae08-4a9584411ff1",
   "metadata": {},
   "outputs": [
    {
     "data": {
      "text/plain": [
       "dict"
      ]
     },
     "execution_count": 44,
     "metadata": {},
     "output_type": "execute_result"
    }
   ],
   "source": [
    "type(s)"
   ]
  },
  {
   "cell_type": "code",
   "execution_count": 45,
   "id": "0fd9c9dd-b1fe-4a7f-a8a4-c8c574099b44",
   "metadata": {},
   "outputs": [],
   "source": [
    "s1 = {1,2,3,4,5}"
   ]
  },
  {
   "cell_type": "code",
   "execution_count": 46,
   "id": "a2c88d0d-c637-4e62-a93b-d81f96ce2f76",
   "metadata": {},
   "outputs": [
    {
     "data": {
      "text/plain": [
       "set"
      ]
     },
     "execution_count": 46,
     "metadata": {},
     "output_type": "execute_result"
    }
   ],
   "source": [
    "type(s1)"
   ]
  },
  {
   "cell_type": "code",
   "execution_count": 47,
   "id": "cdf7c60f-8d76-40cd-9817-b0afdd92e844",
   "metadata": {},
   "outputs": [],
   "source": [
    "s2 = { \"shiv\",\"shiv\",\"Shiv\",1,2,3,4,5,6,7,8}"
   ]
  },
  {
   "cell_type": "code",
   "execution_count": 48,
   "id": "3a34cfec-31bf-43a3-a1e2-ab9fc6a29961",
   "metadata": {},
   "outputs": [
    {
     "data": {
      "text/plain": [
       "{1, 2, 3, 4, 5, 6, 7, 8, 'Shiv', 'shiv'}"
      ]
     },
     "execution_count": 48,
     "metadata": {},
     "output_type": "execute_result"
    }
   ],
   "source": [
    "s2"
   ]
  },
  {
   "cell_type": "code",
   "execution_count": 49,
   "id": "72b1e77b-bf68-48b1-a43f-144b97d4ce8b",
   "metadata": {},
   "outputs": [
    {
     "data": {
      "text/plain": [
       "[1, 2, 3, 'Shiv', 4, 5, 6, 7, 8, 'shiv']"
      ]
     },
     "execution_count": 49,
     "metadata": {},
     "output_type": "execute_result"
    }
   ],
   "source": [
    "list(s2)"
   ]
  },
  {
   "cell_type": "code",
   "execution_count": 50,
   "id": "9a07c3f2-5f71-4bf2-9391-7a9d89c53ac6",
   "metadata": {},
   "outputs": [
    {
     "data": {
      "text/plain": [
       "{300, 4, 5, 'pwskills', 'shiv'}"
      ]
     },
     "execution_count": 50,
     "metadata": {},
     "output_type": "execute_result"
    }
   ],
   "source": [
    "set(l2)"
   ]
  },
  {
   "cell_type": "code",
   "execution_count": 51,
   "id": "4fa6e4d7-8e3a-4b1c-878c-1599ca13f958",
   "metadata": {},
   "outputs": [
    {
     "data": {
      "text/plain": [
       "[1, 2, 3, 4, 5, 'shivam', 'vaid', (3+6j), 345.456, True, [3, 4, 5, 6]]"
      ]
     },
     "execution_count": 51,
     "metadata": {},
     "output_type": "execute_result"
    }
   ],
   "source": [
    "l1"
   ]
  },
  {
   "cell_type": "code",
   "execution_count": 52,
   "id": "afbeb586-e1a7-491c-85b7-fad7ea04278e",
   "metadata": {},
   "outputs": [
    {
     "ename": "TypeError",
     "evalue": "unhashable type: 'list'",
     "output_type": "error",
     "traceback": [
      "\u001b[0;31m---------------------------------------------------------------------------\u001b[0m",
      "\u001b[0;31mTypeError\u001b[0m                                 Traceback (most recent call last)",
      "Cell \u001b[0;32mIn[52], line 1\u001b[0m\n\u001b[0;32m----> 1\u001b[0m \u001b[38;5;28;43mset\u001b[39;49m\u001b[43m(\u001b[49m\u001b[43ml1\u001b[49m\u001b[43m)\u001b[49m\n",
      "\u001b[0;31mTypeError\u001b[0m: unhashable type: 'list'"
     ]
    }
   ],
   "source": [
    "set(l1)"
   ]
  },
  {
   "cell_type": "code",
   "execution_count": 53,
   "id": "05ba63b8-1b83-4b89-8219-45e976ac2898",
   "metadata": {},
   "outputs": [
    {
     "data": {
      "text/plain": [
       "(1, 2, 3, 'Shiv', 4, 5, 6, 7, 8, 'shiv')"
      ]
     },
     "execution_count": 53,
     "metadata": {},
     "output_type": "execute_result"
    }
   ],
   "source": [
    "tuple(s2)"
   ]
  },
  {
   "cell_type": "code",
   "execution_count": 54,
   "id": "fad7124c-3e11-4aba-913e-f227497f9db3",
   "metadata": {},
   "outputs": [
    {
     "data": {
      "text/plain": [
       "{1, 2, 3, 4, 5, 6, 7, 8, 'Shiv', 'shiv'}"
      ]
     },
     "execution_count": 54,
     "metadata": {},
     "output_type": "execute_result"
    }
   ],
   "source": [
    "s2"
   ]
  },
  {
   "cell_type": "code",
   "execution_count": 55,
   "id": "620012b5-cd30-4b55-bd82-21d650a4979a",
   "metadata": {},
   "outputs": [
    {
     "ename": "TypeError",
     "evalue": "'set' object is not subscriptable",
     "output_type": "error",
     "traceback": [
      "\u001b[0;31m---------------------------------------------------------------------------\u001b[0m",
      "\u001b[0;31mTypeError\u001b[0m                                 Traceback (most recent call last)",
      "Cell \u001b[0;32mIn[55], line 1\u001b[0m\n\u001b[0;32m----> 1\u001b[0m \u001b[43ms2\u001b[49m\u001b[43m[\u001b[49m\u001b[38;5;241;43m0\u001b[39;49m\u001b[43m]\u001b[49m\n",
      "\u001b[0;31mTypeError\u001b[0m: 'set' object is not subscriptable"
     ]
    }
   ],
   "source": [
    "s2[0]"
   ]
  },
  {
   "cell_type": "code",
   "execution_count": 56,
   "id": "85d869bd-ae44-4e49-8453-795e6ceab557",
   "metadata": {},
   "outputs": [],
   "source": [
    "s3 = {234,42,34435,54354,66,56,547,76,7,76,8,6767,\"shiv\",234.43}"
   ]
  },
  {
   "cell_type": "code",
   "execution_count": 57,
   "id": "a4ab06c4-605a-482a-abc6-9a405cad29ed",
   "metadata": {},
   "outputs": [
    {
     "data": {
      "text/plain": [
       "{234, 234.43, 34435, 42, 54354, 547, 56, 66, 6767, 7, 76, 8, 'shiv'}"
      ]
     },
     "execution_count": 57,
     "metadata": {},
     "output_type": "execute_result"
    }
   ],
   "source": [
    "s3"
   ]
  },
  {
   "cell_type": "code",
   "execution_count": 58,
   "id": "7a2faf77-6fd9-4cb7-a240-abe119cf9c77",
   "metadata": {},
   "outputs": [],
   "source": [
    "d = {}"
   ]
  },
  {
   "cell_type": "code",
   "execution_count": 59,
   "id": "2e10f88e-2b73-4649-b13f-ae728e5815ef",
   "metadata": {},
   "outputs": [
    {
     "data": {
      "text/plain": [
       "dict"
      ]
     },
     "execution_count": 59,
     "metadata": {},
     "output_type": "execute_result"
    }
   ],
   "source": [
    "type(d)"
   ]
  },
  {
   "cell_type": "code",
   "execution_count": 60,
   "id": "72cdd87e-f0f4-4590-9fcb-593942c8b6cd",
   "metadata": {},
   "outputs": [],
   "source": [
    " d1 = {'name' : \"shivam\", \"subject\" :[\"data science\" , \"big data\" , \"data analytics\"] , \"number\" :432245} "
   ]
  },
  {
   "cell_type": "code",
   "execution_count": 61,
   "id": "f4de1111-0fcb-4d22-bd44-25cf52e135a8",
   "metadata": {},
   "outputs": [
    {
     "data": {
      "text/plain": [
       "{'name': 'shivam',\n",
       " 'subject': ['data science', 'big data', 'data analytics'],\n",
       " 'number': 432245}"
      ]
     },
     "execution_count": 61,
     "metadata": {},
     "output_type": "execute_result"
    }
   ],
   "source": [
    "d1"
   ]
  },
  {
   "cell_type": "code",
   "execution_count": 62,
   "id": "9924b090-0417-4734-b05f-36059aed1cfc",
   "metadata": {},
   "outputs": [],
   "source": [
    "d2 = {\"name\" : \"shivam\" , \"name\" : \"pwskills\"}"
   ]
  },
  {
   "cell_type": "code",
   "execution_count": 63,
   "id": "cc7b83fa-1e4a-4452-9d17-ec5f4c5f1111",
   "metadata": {},
   "outputs": [
    {
     "data": {
      "text/plain": [
       "{'name': 'pwskills'}"
      ]
     },
     "execution_count": 63,
     "metadata": {},
     "output_type": "execute_result"
    }
   ],
   "source": [
    "d2"
   ]
  },
  {
   "cell_type": "code",
   "execution_count": 64,
   "id": "564475ff-fe48-4efe-9e87-6082e4c1c40f",
   "metadata": {},
   "outputs": [],
   "source": [
    "d3 = {2354: \"shivam\"}"
   ]
  },
  {
   "cell_type": "code",
   "execution_count": 65,
   "id": "a1ce3f16-dbaf-4e5f-af94-6850f10b4e59",
   "metadata": {},
   "outputs": [
    {
     "ename": "TypeError",
     "evalue": "unhashable type: 'list'",
     "output_type": "error",
     "traceback": [
      "\u001b[0;31m---------------------------------------------------------------------------\u001b[0m",
      "\u001b[0;31mTypeError\u001b[0m                                 Traceback (most recent call last)",
      "Cell \u001b[0;32mIn[65], line 1\u001b[0m\n\u001b[0;32m----> 1\u001b[0m d3\u001b[38;5;241m=\u001b[39m{[\u001b[38;5;241m1\u001b[39m,\u001b[38;5;241m2\u001b[39m,\u001b[38;5;241m3\u001b[39m,\u001b[38;5;241m4\u001b[39m]:\u001b[38;5;124m\"\u001b[39m\u001b[38;5;124mshivam\u001b[39m\u001b[38;5;124m\"\u001b[39m}\n",
      "\u001b[0;31mTypeError\u001b[0m: unhashable type: 'list'"
     ]
    }
   ],
   "source": [
    "d3={[1,2,3,4]:\"shivam\"}"
   ]
  },
  {
   "cell_type": "code",
   "execution_count": 66,
   "id": "2ac4e68a-5eac-4233-9345-8347500ee08e",
   "metadata": {},
   "outputs": [
    {
     "ename": "TypeError",
     "evalue": "unhashable type: 'set'",
     "output_type": "error",
     "traceback": [
      "\u001b[0;31m---------------------------------------------------------------------------\u001b[0m",
      "\u001b[0;31mTypeError\u001b[0m                                 Traceback (most recent call last)",
      "Cell \u001b[0;32mIn[66], line 1\u001b[0m\n\u001b[0;32m----> 1\u001b[0m d3 \u001b[38;5;241m=\u001b[39m{{\u001b[38;5;241m2\u001b[39m,\u001b[38;5;241m3\u001b[39m,\u001b[38;5;241m4\u001b[39m,\u001b[38;5;241m5\u001b[39m,\u001b[38;5;241m5\u001b[39m} : \u001b[38;5;124m\"\u001b[39m\u001b[38;5;124mshivam\u001b[39m\u001b[38;5;124m\"\u001b[39m}\n",
      "\u001b[0;31mTypeError\u001b[0m: unhashable type: 'set'"
     ]
    }
   ],
   "source": [
    "d3 ={{2,3,4,5,5} : \"shivam\"}"
   ]
  },
  {
   "cell_type": "code",
   "execution_count": 67,
   "id": "a1201866-5f6d-46b3-a939-c3527421eb87",
   "metadata": {},
   "outputs": [],
   "source": [
    "d3={(2,3,23,4,4) : \"shivam\"}"
   ]
  },
  {
   "cell_type": "code",
   "execution_count": 68,
   "id": "7c7524c9-f7db-4b91-b20b-11ef3bdb5702",
   "metadata": {},
   "outputs": [
    {
     "ename": "SyntaxError",
     "evalue": "invalid syntax (2220026220.py, line 1)",
     "output_type": "error",
     "traceback": [
      "\u001b[0;36m  Cell \u001b[0;32mIn[68], line 1\u001b[0;36m\u001b[0m\n\u001b[0;31m    d3={%sfs : \"shivam\"}\u001b[0m\n\u001b[0m        ^\u001b[0m\n\u001b[0;31mSyntaxError\u001b[0m\u001b[0;31m:\u001b[0m invalid syntax\n"
     ]
    }
   ],
   "source": [
    "d3={%sfs : \"shivam\"}"
   ]
  },
  {
   "cell_type": "code",
   "execution_count": 69,
   "id": "2bf0fc61-fa3c-4d58-a29f-ea0961676178",
   "metadata": {},
   "outputs": [],
   "source": [
    "d3 = {\"%fsf\" : \"shivam\"}"
   ]
  },
  {
   "cell_type": "code",
   "execution_count": 86,
   "id": "aeedb892-f1c1-4c94-8f47-5fe6f4076288",
   "metadata": {},
   "outputs": [],
   "source": [
    "d4 = {'course' : ['dsa', 'java', 'webdev', 'blockchain' , 'cloud']  , ' mentor' :('sudh','krish' , 'viswn' , 'sourganshu' , 'sunny') , 'price':{ 2300, 2300 , 3400,2340,32220} , 'duration' :1 , 'access': 1, 'syllabus' : [ 'core python' , 'oops' , 'panda' , 'numpy' , 'db' , 'mongbd'] , 'ml':['supervised','semisupervised']}  "
   ]
  },
  {
   "cell_type": "code",
   "execution_count": 78,
   "id": "c67baa6e-e0bb-46bb-8f38-75d0a6dcc233",
   "metadata": {},
   "outputs": [
    {
     "data": {
      "text/plain": [
       "['dsa', 'java', 'webdev', 'blockchain', 'cloud']"
      ]
     },
     "execution_count": 78,
     "metadata": {},
     "output_type": "execute_result"
    }
   ],
   "source": [
    "d4 ['course']"
   ]
  },
  {
   "cell_type": "code",
   "execution_count": 87,
   "id": "cfad18d0-5c18-41ac-9d40-05a9199b6a71",
   "metadata": {},
   "outputs": [
    {
     "data": {
      "text/plain": [
       "{'course': ['dsa', 'java', 'webdev', 'blockchain', 'cloud'],\n",
       " ' mentor': ('sudh', 'krish', 'viswn', 'sourganshu', 'sunny'),\n",
       " 'price': {2300, 2340, 3400, 32220},\n",
       " 'duration': 1,\n",
       " 'access': 1,\n",
       " 'syllabus': ['core python', 'oops', 'panda', 'numpy', 'db', 'mongbd'],\n",
       " 'ml': ['supervised', 'semisupervised']}"
      ]
     },
     "execution_count": 87,
     "metadata": {},
     "output_type": "execute_result"
    }
   ],
   "source": [
    "d4"
   ]
  },
  {
   "cell_type": "code",
   "execution_count": 82,
   "id": "0277a74c-891b-4c6c-87bb-bcced82199db",
   "metadata": {},
   "outputs": [
    {
     "data": {
      "text/plain": [
       "('sudh', 'krish', 'viswn', 'sourganshu', 'sunny')"
      ]
     },
     "execution_count": 82,
     "metadata": {},
     "output_type": "execute_result"
    }
   ],
   "source": [
    "d4[' mentor']"
   ]
  },
  {
   "cell_type": "code",
   "execution_count": 88,
   "id": "d4ac81d3-88bd-419e-b7f8-cf15ee07931c",
   "metadata": {},
   "outputs": [
    {
     "data": {
      "text/plain": [
       "{'name': 'pwskills'}"
      ]
     },
     "execution_count": 88,
     "metadata": {},
     "output_type": "execute_result"
    }
   ],
   "source": [
    "d2"
   ]
  },
  {
   "cell_type": "code",
   "execution_count": 89,
   "id": "265e4240-56d7-4830-9c4e-23290d08324b",
   "metadata": {},
   "outputs": [],
   "source": [
    "d2['phone number'] = 9808210"
   ]
  },
  {
   "cell_type": "code",
   "execution_count": 90,
   "id": "98fed451-39b7-4b7d-b870-127c3fb22fec",
   "metadata": {},
   "outputs": [
    {
     "data": {
      "text/plain": [
       "{'name': 'pwskills', 'phone number': 9808210}"
      ]
     },
     "execution_count": 90,
     "metadata": {},
     "output_type": "execute_result"
    }
   ],
   "source": [
    "d2"
   ]
  },
  {
   "cell_type": "code",
   "execution_count": 91,
   "id": "f041d8fc-7686-477c-a390-776abe0c1bb2",
   "metadata": {},
   "outputs": [],
   "source": [
    "d2['name'] = \"sudhanshu\""
   ]
  },
  {
   "cell_type": "code",
   "execution_count": 92,
   "id": "5c1cf7ee-bb2f-482c-87c3-ae30e59a8117",
   "metadata": {},
   "outputs": [
    {
     "data": {
      "text/plain": [
       "{'name': 'sudhanshu', 'phone number': 9808210}"
      ]
     },
     "execution_count": 92,
     "metadata": {},
     "output_type": "execute_result"
    }
   ],
   "source": [
    "d2"
   ]
  },
  {
   "cell_type": "markdown",
   "id": "690b922c-b7c5-4ac7-b6ba-ef5b20187bd5",
   "metadata": {},
   "source": [
    "1.string\n",
    "\n",
    "2.list \n",
    "\n",
    "3.tuple\n",
    "4.set\n",
    "5.dict"
   ]
  },
  {
   "cell_type": "code",
   "execution_count": 94,
   "id": "6ba3a2ad-4ba8-42fe-a756-041e7e5d9432",
   "metadata": {},
   "outputs": [],
   "source": [
    "s1 =\"pwskills\"\n"
   ]
  },
  {
   "cell_type": "code",
   "execution_count": 97,
   "id": "7fe12449-1acb-4be1-85c5-b11c59d8bdd9",
   "metadata": {},
   "outputs": [
    {
     "data": {
      "text/plain": [
       "2"
      ]
     },
     "execution_count": 97,
     "metadata": {},
     "output_type": "execute_result"
    }
   ],
   "source": [
    "s1.count('l')"
   ]
  },
  {
   "cell_type": "code",
   "execution_count": 98,
   "id": "c73a891f-c20c-4a42-b602-b81ed52d1ca9",
   "metadata": {},
   "outputs": [
    {
     "data": {
      "text/plain": [
       "2"
      ]
     },
     "execution_count": 98,
     "metadata": {},
     "output_type": "execute_result"
    }
   ],
   "source": [
    "s1.find('s')"
   ]
  },
  {
   "cell_type": "code",
   "execution_count": 99,
   "id": "77025187-85a4-4966-b4c0-0ef75029e98f",
   "metadata": {},
   "outputs": [
    {
     "data": {
      "text/plain": [
       "0"
      ]
     },
     "execution_count": 99,
     "metadata": {},
     "output_type": "execute_result"
    }
   ],
   "source": [
    "s1.index('p')"
   ]
  },
  {
   "cell_type": "code",
   "execution_count": 100,
   "id": "4c0aab04-0d03-4385-bb32-208cdb8619ea",
   "metadata": {},
   "outputs": [
    {
     "data": {
      "text/plain": [
       "2"
      ]
     },
     "execution_count": 100,
     "metadata": {},
     "output_type": "execute_result"
    }
   ],
   "source": [
    "s1.index(\"s\")"
   ]
  },
  {
   "cell_type": "code",
   "execution_count": 101,
   "id": "09c98eda-22ca-4ace-ae8f-3394614989a0",
   "metadata": {},
   "outputs": [
    {
     "data": {
      "text/plain": [
       "-1"
      ]
     },
     "execution_count": 101,
     "metadata": {},
     "output_type": "execute_result"
    }
   ],
   "source": [
    "s1.find('z')"
   ]
  },
  {
   "cell_type": "code",
   "execution_count": 102,
   "id": "abd6c4b1-95fe-4e45-85b3-624c4e0442c4",
   "metadata": {},
   "outputs": [
    {
     "ename": "ValueError",
     "evalue": "substring not found",
     "output_type": "error",
     "traceback": [
      "\u001b[0;31m---------------------------------------------------------------------------\u001b[0m",
      "\u001b[0;31mValueError\u001b[0m                                Traceback (most recent call last)",
      "Cell \u001b[0;32mIn[102], line 1\u001b[0m\n\u001b[0;32m----> 1\u001b[0m \u001b[43ms1\u001b[49m\u001b[38;5;241;43m.\u001b[39;49m\u001b[43mindex\u001b[49m\u001b[43m(\u001b[49m\u001b[38;5;124;43m'\u001b[39;49m\u001b[38;5;124;43mz\u001b[39;49m\u001b[38;5;124;43m'\u001b[39;49m\u001b[43m)\u001b[49m\n",
      "\u001b[0;31mValueError\u001b[0m: substring not found"
     ]
    }
   ],
   "source": [
    "s1.index('z')"
   ]
  },
  {
   "cell_type": "code",
   "execution_count": 103,
   "id": "5cdb4375-9878-4c87-b201-b328f8f7370c",
   "metadata": {},
   "outputs": [
    {
     "data": {
      "text/plain": [
       "'pwskills'"
      ]
     },
     "execution_count": 103,
     "metadata": {},
     "output_type": "execute_result"
    }
   ],
   "source": [
    "s1"
   ]
  },
  {
   "cell_type": "code",
   "execution_count": 104,
   "id": "36de4274-c54d-4eb7-bc03-4ce79fc8d540",
   "metadata": {},
   "outputs": [
    {
     "data": {
      "text/plain": [
       "'PWSKILLS'"
      ]
     },
     "execution_count": 104,
     "metadata": {},
     "output_type": "execute_result"
    }
   ],
   "source": [
    "s1.upper()"
   ]
  },
  {
   "cell_type": "code",
   "execution_count": 105,
   "id": "c4eb56a8-3efa-42d9-a9d4-60f19c849956",
   "metadata": {},
   "outputs": [
    {
     "data": {
      "text/plain": [
       "'pwskills'"
      ]
     },
     "execution_count": 105,
     "metadata": {},
     "output_type": "execute_result"
    }
   ],
   "source": [
    "s1.lower()"
   ]
  },
  {
   "cell_type": "code",
   "execution_count": 106,
   "id": "e40886e2-4549-495a-a030-b8df07433e70",
   "metadata": {},
   "outputs": [
    {
     "data": {
      "text/plain": [
       "'Pwskills'"
      ]
     },
     "execution_count": 106,
     "metadata": {},
     "output_type": "execute_result"
    }
   ],
   "source": [
    "s1.title()"
   ]
  },
  {
   "cell_type": "code",
   "execution_count": 107,
   "id": "e6d0b55a-6611-4901-9953-b94b16921685",
   "metadata": {},
   "outputs": [],
   "source": [
    "s2 = \"my name is shivam\""
   ]
  },
  {
   "cell_type": "code",
   "execution_count": 108,
   "id": "22d2e1a0-9926-403f-b5ea-f06f398b5118",
   "metadata": {},
   "outputs": [
    {
     "data": {
      "text/plain": [
       "'My Name Is Shivam'"
      ]
     },
     "execution_count": 108,
     "metadata": {},
     "output_type": "execute_result"
    }
   ],
   "source": [
    "s2.title()"
   ]
  },
  {
   "cell_type": "code",
   "execution_count": 109,
   "id": "ac0250d4-0f34-433d-bde1-e6bb872c2e3a",
   "metadata": {},
   "outputs": [
    {
     "data": {
      "text/plain": [
       "['my', 'name', 'is', 'shivam']"
      ]
     },
     "execution_count": 109,
     "metadata": {},
     "output_type": "execute_result"
    }
   ],
   "source": [
    "s2.split()"
   ]
  },
  {
   "cell_type": "code",
   "execution_count": 110,
   "id": "4d4e2b25-c239-41a9-bc09-4b06b18bf0d4",
   "metadata": {},
   "outputs": [],
   "source": [
    "s3 = \"my name , is , shivam\""
   ]
  },
  {
   "cell_type": "code",
   "execution_count": 113,
   "id": "f514880a-5ca1-46d3-a008-6ee0b6db7627",
   "metadata": {},
   "outputs": [
    {
     "data": {
      "text/plain": [
       "['my name , i', ' , ', 'hivam']"
      ]
     },
     "execution_count": 113,
     "metadata": {},
     "output_type": "execute_result"
    }
   ],
   "source": [
    "s3.split('s')"
   ]
  },
  {
   "cell_type": "code",
   "execution_count": 114,
   "id": "324c1e06-2964-4b28-8d92-99573e72cc40",
   "metadata": {},
   "outputs": [],
   "source": [
    "s4 = \"this is my fsds pro class. i am attending this class for 4th time\""
   ]
  },
  {
   "cell_type": "code",
   "execution_count": 117,
   "id": "d857fd9c-a6de-4757-b79f-52e146864a1e",
   "metadata": {},
   "outputs": [
    {
     "data": {
      "text/plain": [
       "'this is my fsds pro class. i am attending this class for 4th time'"
      ]
     },
     "execution_count": 117,
     "metadata": {},
     "output_type": "execute_result"
    }
   ],
   "source": [
    "s4.split(',')[0]"
   ]
  },
  {
   "cell_type": "code",
   "execution_count": 118,
   "id": "3fe90b3a-91b4-49eb-97fc-c12480e4dab9",
   "metadata": {},
   "outputs": [
    {
     "data": {
      "text/plain": [
       "'my name , is , shivam'"
      ]
     },
     "execution_count": 118,
     "metadata": {},
     "output_type": "execute_result"
    }
   ],
   "source": [
    "s3"
   ]
  },
  {
   "cell_type": "code",
   "execution_count": 119,
   "id": "0585f4ca-e559-4f3e-83fc-e1c533d1fe83",
   "metadata": {},
   "outputs": [
    {
     "data": {
      "text/plain": [
       "'my name is shivam'"
      ]
     },
     "execution_count": 119,
     "metadata": {},
     "output_type": "execute_result"
    }
   ],
   "source": [
    "s2"
   ]
  },
  {
   "cell_type": "code",
   "execution_count": 121,
   "id": "80bb3333-472a-4e46-a732-9fd1f950273b",
   "metadata": {},
   "outputs": [
    {
     "data": {
      "text/plain": [
       "'My name is shivam'"
      ]
     },
     "execution_count": 121,
     "metadata": {},
     "output_type": "execute_result"
    }
   ],
   "source": [
    "s2.capitalize()"
   ]
  },
  {
   "cell_type": "code",
   "execution_count": 122,
   "id": "6ef74d17-cd01-4e0b-91b7-3b8f8dafd9e1",
   "metadata": {},
   "outputs": [
    {
     "data": {
      "text/plain": [
       "'My Name Is Shivam'"
      ]
     },
     "execution_count": 122,
     "metadata": {},
     "output_type": "execute_result"
    }
   ],
   "source": [
    "s2.title()"
   ]
  },
  {
   "cell_type": "code",
   "execution_count": 123,
   "id": "3bbb5578-9fe5-4081-bfe2-a3ddc7b41944",
   "metadata": {},
   "outputs": [
    {
     "data": {
      "text/plain": [
       "'my aame is shivam'"
      ]
     },
     "execution_count": 123,
     "metadata": {},
     "output_type": "execute_result"
    }
   ],
   "source": [
    "s2.replace('n','a')"
   ]
  },
  {
   "cell_type": "code",
   "execution_count": 124,
   "id": "138f4173-83fb-405e-a663-77a20e7a20d4",
   "metadata": {},
   "outputs": [
    {
     "data": {
      "text/plain": [
       "'my name is shivam'"
      ]
     },
     "execution_count": 124,
     "metadata": {},
     "output_type": "execute_result"
    }
   ],
   "source": [
    "s2"
   ]
  },
  {
   "cell_type": "code",
   "execution_count": 125,
   "id": "8e68adf6-b335-494d-9940-d50f072154f1",
   "metadata": {},
   "outputs": [
    {
     "data": {
      "text/plain": [
       "'pwskills'"
      ]
     },
     "execution_count": 125,
     "metadata": {},
     "output_type": "execute_result"
    }
   ],
   "source": [
    "s1"
   ]
  },
  {
   "cell_type": "code",
   "execution_count": 127,
   "id": "9e0ac70a-41fb-4465-a415-f92092c73e71",
   "metadata": {},
   "outputs": [
    {
     "data": {
      "text/plain": [
       "'ffffffffffffffffpwskillsffffffffffffffff'"
      ]
     },
     "execution_count": 127,
     "metadata": {},
     "output_type": "execute_result"
    }
   ],
   "source": [
    "s1.center(40,'f')"
   ]
  },
  {
   "cell_type": "code",
   "execution_count": 130,
   "id": "88bcefb0-f7a8-4be2-835e-87d965419daf",
   "metadata": {},
   "outputs": [
    {
     "data": {
      "text/plain": [
       "'pwskills'"
      ]
     },
     "execution_count": 130,
     "metadata": {},
     "output_type": "execute_result"
    }
   ],
   "source": [
    "s1.rstrip()"
   ]
  },
  {
   "cell_type": "code",
   "execution_count": 131,
   "id": "3396a90f-a4a3-465d-b5fe-9ac3772f8523",
   "metadata": {},
   "outputs": [],
   "source": [
    "s5 = '         pwskills    '"
   ]
  },
  {
   "cell_type": "code",
   "execution_count": 132,
   "id": "57a97b32-93fe-4adf-88a6-0b057202cd98",
   "metadata": {},
   "outputs": [
    {
     "data": {
      "text/plain": [
       "'         pwskills'"
      ]
     },
     "execution_count": 132,
     "metadata": {},
     "output_type": "execute_result"
    }
   ],
   "source": [
    "s5.rstrip()"
   ]
  },
  {
   "cell_type": "code",
   "execution_count": 133,
   "id": "39bfbe6b-d690-4135-adf3-528c7ba1d435",
   "metadata": {},
   "outputs": [
    {
     "data": {
      "text/plain": [
       "'pwskills    '"
      ]
     },
     "execution_count": 133,
     "metadata": {},
     "output_type": "execute_result"
    }
   ],
   "source": [
    "s5.lstrip()"
   ]
  },
  {
   "cell_type": "code",
   "execution_count": 134,
   "id": "3f3751a0-b5fd-436e-aacf-466b6d1b1b0a",
   "metadata": {},
   "outputs": [
    {
     "data": {
      "text/plain": [
       "'pwskills'"
      ]
     },
     "execution_count": 134,
     "metadata": {},
     "output_type": "execute_result"
    }
   ],
   "source": [
    "s5.strip()"
   ]
  },
  {
   "cell_type": "code",
   "execution_count": 135,
   "id": "751b6140-ef3d-46ce-b0c0-07f0e8d37f92",
   "metadata": {},
   "outputs": [
    {
     "data": {
      "text/plain": [
       "'my name is shivam'"
      ]
     },
     "execution_count": 135,
     "metadata": {},
     "output_type": "execute_result"
    }
   ],
   "source": [
    "s2"
   ]
  },
  {
   "cell_type": "code",
   "execution_count": 136,
   "id": "28d84845-dd55-4912-816f-31bbb342c225",
   "metadata": {},
   "outputs": [
    {
     "data": {
      "text/plain": [
       "'pwskills'"
      ]
     },
     "execution_count": 136,
     "metadata": {},
     "output_type": "execute_result"
    }
   ],
   "source": [
    "s1"
   ]
  },
  {
   "cell_type": "code",
   "execution_count": 137,
   "id": "29a3f598-3665-437e-a032-2f51912e2764",
   "metadata": {},
   "outputs": [
    {
     "data": {
      "text/plain": [
       "True"
      ]
     },
     "execution_count": 137,
     "metadata": {},
     "output_type": "execute_result"
    }
   ],
   "source": [
    "s1.isalnum()"
   ]
  },
  {
   "cell_type": "code",
   "execution_count": 138,
   "id": "0309f407-dcd3-4d35-a435-ceabc190356c",
   "metadata": {},
   "outputs": [
    {
     "data": {
      "text/plain": [
       "True"
      ]
     },
     "execution_count": 138,
     "metadata": {},
     "output_type": "execute_result"
    }
   ],
   "source": [
    "s1.isalpha()"
   ]
  },
  {
   "cell_type": "code",
   "execution_count": 139,
   "id": "0db10e38-cb99-4c60-988b-a57a2fcc46e5",
   "metadata": {},
   "outputs": [
    {
     "data": {
      "text/plain": [
       "False"
      ]
     },
     "execution_count": 139,
     "metadata": {},
     "output_type": "execute_result"
    }
   ],
   "source": [
    "s1.isnumeric()"
   ]
  },
  {
   "cell_type": "code",
   "execution_count": 140,
   "id": "eb9cb061-2faf-463a-a0b4-01255c2086f5",
   "metadata": {},
   "outputs": [
    {
     "data": {
      "text/plain": [
       "True"
      ]
     },
     "execution_count": 140,
     "metadata": {},
     "output_type": "execute_result"
    }
   ],
   "source": [
    "s1.islower()"
   ]
  },
  {
   "cell_type": "code",
   "execution_count": 143,
   "id": "9a06a963-0271-44f1-8f0c-7006fd75bdb9",
   "metadata": {},
   "outputs": [],
   "source": [
    "l1.append(\"sudg\")"
   ]
  },
  {
   "cell_type": "code",
   "execution_count": 144,
   "id": "8d7769ab-6683-4d9f-b1b5-7f3d084e6b22",
   "metadata": {},
   "outputs": [
    {
     "data": {
      "text/plain": [
       "[1, 2, 3, 4, 5, 'shivam', 'vaid', (3+6j), 345.456, True, [3, 4, 5, 6], 'sudg']"
      ]
     },
     "execution_count": 144,
     "metadata": {},
     "output_type": "execute_result"
    }
   ],
   "source": [
    "l1"
   ]
  },
  {
   "cell_type": "code",
   "execution_count": 145,
   "id": "c3f4a02a-9428-4a1a-b13c-271d2cf57a51",
   "metadata": {},
   "outputs": [],
   "source": [
    "l1.insert(3,'pwskills')"
   ]
  },
  {
   "cell_type": "code",
   "execution_count": 146,
   "id": "48df954c-45df-4c6b-b270-693fe023b3e3",
   "metadata": {},
   "outputs": [
    {
     "data": {
      "text/plain": [
       "[1,\n",
       " 2,\n",
       " 3,\n",
       " 'pwskills',\n",
       " 4,\n",
       " 5,\n",
       " 'shivam',\n",
       " 'vaid',\n",
       " (3+6j),\n",
       " 345.456,\n",
       " True,\n",
       " [3, 4, 5, 6],\n",
       " 'sudg']"
      ]
     },
     "execution_count": 146,
     "metadata": {},
     "output_type": "execute_result"
    }
   ],
   "source": [
    "l1"
   ]
  },
  {
   "cell_type": "code",
   "execution_count": 147,
   "id": "607acb44-ff0c-4844-8804-fac19e6533f2",
   "metadata": {},
   "outputs": [],
   "source": [
    "l2.extend(\"sudh\")"
   ]
  },
  {
   "cell_type": "code",
   "execution_count": 148,
   "id": "bb085abc-7513-4b2c-ad3c-ba7a785a952d",
   "metadata": {},
   "outputs": [
    {
     "data": {
      "text/plain": [
       "[300, 4, 5, 'pwskills', 'shiv', 's', 'u', 'd', 'h']"
      ]
     },
     "execution_count": 148,
     "metadata": {},
     "output_type": "execute_result"
    }
   ],
   "source": [
    "l2"
   ]
  },
  {
   "cell_type": "code",
   "execution_count": 150,
   "id": "a413983e-408c-4dba-8e47-79738578748f",
   "metadata": {},
   "outputs": [],
   "source": [
    "l2.append(\"sudh\")"
   ]
  },
  {
   "cell_type": "code",
   "execution_count": 151,
   "id": "a85965bf-8af5-4066-ab5e-2f4b45b9f300",
   "metadata": {},
   "outputs": [
    {
     "data": {
      "text/plain": [
       "[300, 4, 5, 'pwskills', 'shiv', 's', 'u', 'd', 'h', 'sudh']"
      ]
     },
     "execution_count": 151,
     "metadata": {},
     "output_type": "execute_result"
    }
   ],
   "source": [
    "l2"
   ]
  },
  {
   "cell_type": "code",
   "execution_count": 152,
   "id": "2a7ace6a-4edb-46d7-9561-3f9064642d28",
   "metadata": {},
   "outputs": [],
   "source": [
    "l2.insert(2,\"sudh\")"
   ]
  },
  {
   "cell_type": "code",
   "execution_count": 153,
   "id": "fbc7ae16-8823-4462-9f43-996071b85213",
   "metadata": {},
   "outputs": [
    {
     "data": {
      "text/plain": [
       "[300, 4, 'sudh', 5, 'pwskills', 'shiv', 's', 'u', 'd', 'h', 'sudh']"
      ]
     },
     "execution_count": 153,
     "metadata": {},
     "output_type": "execute_result"
    }
   ],
   "source": [
    "l2"
   ]
  },
  {
   "cell_type": "code",
   "execution_count": 154,
   "id": "1adb14ee-2bfd-44b1-997f-d85f4bd1771d",
   "metadata": {},
   "outputs": [],
   "source": [
    "l2.extend('sudh')"
   ]
  },
  {
   "cell_type": "code",
   "execution_count": 155,
   "id": "2a19daf0-11ff-4306-a63f-4f30cdc7b705",
   "metadata": {},
   "outputs": [
    {
     "data": {
      "text/plain": [
       "[300,\n",
       " 4,\n",
       " 'sudh',\n",
       " 5,\n",
       " 'pwskills',\n",
       " 'shiv',\n",
       " 's',\n",
       " 'u',\n",
       " 'd',\n",
       " 'h',\n",
       " 'sudh',\n",
       " 's',\n",
       " 'u',\n",
       " 'd',\n",
       " 'h']"
      ]
     },
     "execution_count": 155,
     "metadata": {},
     "output_type": "execute_result"
    }
   ],
   "source": [
    "l2"
   ]
  },
  {
   "cell_type": "code",
   "execution_count": 156,
   "id": "570493cd-ba0a-45da-85ef-af05aa31a481",
   "metadata": {},
   "outputs": [],
   "source": [
    "l3 = [1,2,3,4,5]"
   ]
  },
  {
   "cell_type": "code",
   "execution_count": 157,
   "id": "80f9bb54-f6fb-4c7a-8d54-148e451412bc",
   "metadata": {},
   "outputs": [],
   "source": [
    "l3.append([1,2,3,4])"
   ]
  },
  {
   "cell_type": "code",
   "execution_count": 159,
   "id": "47e80a1c-f7a2-488d-9880-c3a292fae69c",
   "metadata": {},
   "outputs": [
    {
     "data": {
      "text/plain": [
       "[1, 2, 3, 4, 5, [1, 2, 3, 4]]"
      ]
     },
     "execution_count": 159,
     "metadata": {},
     "output_type": "execute_result"
    }
   ],
   "source": [
    "l3"
   ]
  },
  {
   "cell_type": "code",
   "execution_count": 160,
   "id": "9277bce0-1e3f-4d41-b594-2bbe9c5fcfef",
   "metadata": {},
   "outputs": [],
   "source": []
  },
  {
   "cell_type": "code",
   "execution_count": 162,
   "id": "25c3aa02-4a0b-43a4-bec6-a099d47765f5",
   "metadata": {},
   "outputs": [],
   "source": [
    "l3.insert(1,[6,7,88])"
   ]
  },
  {
   "cell_type": "code",
   "execution_count": 163,
   "id": "1350f7f1-b46e-4464-85ae-7814c5f0511d",
   "metadata": {},
   "outputs": [
    {
     "data": {
      "text/plain": [
       "[1, [6, 7, 88], 2, 'shivam', 3, 4, 5, [1, 2, 3, 4]]"
      ]
     },
     "execution_count": 163,
     "metadata": {},
     "output_type": "execute_result"
    }
   ],
   "source": [
    "l3"
   ]
  },
  {
   "cell_type": "code",
   "execution_count": 164,
   "id": "adb4dc5e-f0a4-44cf-a287-22bcac71e6ad",
   "metadata": {},
   "outputs": [],
   "source": [
    "l3.extend([4,5,6])"
   ]
  },
  {
   "cell_type": "code",
   "execution_count": 165,
   "id": "f9555aff-1f4c-4f99-a5b3-6d2e8e693cc5",
   "metadata": {},
   "outputs": [
    {
     "data": {
      "text/plain": [
       "[1, [6, 7, 88], 2, 'shivam', 3, 4, 5, [1, 2, 3, 4], 4, 5, 6]"
      ]
     },
     "execution_count": 165,
     "metadata": {},
     "output_type": "execute_result"
    }
   ],
   "source": [
    "l3"
   ]
  },
  {
   "cell_type": "code",
   "execution_count": 166,
   "id": "77e58d0d-603d-41de-a23c-786492cff9cf",
   "metadata": {},
   "outputs": [
    {
     "data": {
      "text/plain": [
       "6"
      ]
     },
     "execution_count": 166,
     "metadata": {},
     "output_type": "execute_result"
    }
   ],
   "source": [
    "l3.pop()"
   ]
  },
  {
   "cell_type": "code",
   "execution_count": 167,
   "id": "2b288346-fde2-46c3-9310-d8a0e313de13",
   "metadata": {},
   "outputs": [
    {
     "data": {
      "text/plain": [
       "[1, [6, 7, 88], 2, 'shivam', 3, 4, 5, [1, 2, 3, 4], 4, 5]"
      ]
     },
     "execution_count": 167,
     "metadata": {},
     "output_type": "execute_result"
    }
   ],
   "source": [
    "l3"
   ]
  },
  {
   "cell_type": "code",
   "execution_count": 168,
   "id": "bb8ad290-9aac-4584-ac3a-9784ebb9536a",
   "metadata": {},
   "outputs": [
    {
     "data": {
      "text/plain": [
       "[6, 7, 88]"
      ]
     },
     "execution_count": 168,
     "metadata": {},
     "output_type": "execute_result"
    }
   ],
   "source": [
    "l3.pop(1)"
   ]
  },
  {
   "cell_type": "code",
   "execution_count": 169,
   "id": "6d63b936-4c6c-4560-9605-59189de4d6da",
   "metadata": {},
   "outputs": [
    {
     "data": {
      "text/plain": [
       "[1, 2, 'shivam', 3, 4, 5, [1, 2, 3, 4], 4, 5]"
      ]
     },
     "execution_count": 169,
     "metadata": {},
     "output_type": "execute_result"
    }
   ],
   "source": [
    "l3"
   ]
  },
  {
   "cell_type": "code",
   "execution_count": 170,
   "id": "83547145-ed51-403e-8277-dc68ba3e944e",
   "metadata": {},
   "outputs": [],
   "source": [
    "del l3"
   ]
  },
  {
   "cell_type": "code",
   "execution_count": 171,
   "id": "7bb310d8-c26b-4965-9888-27a024e3ea97",
   "metadata": {},
   "outputs": [
    {
     "ename": "NameError",
     "evalue": "name 'l3' is not defined",
     "output_type": "error",
     "traceback": [
      "\u001b[0;31m---------------------------------------------------------------------------\u001b[0m",
      "\u001b[0;31mNameError\u001b[0m                                 Traceback (most recent call last)",
      "Cell \u001b[0;32mIn[171], line 1\u001b[0m\n\u001b[0;32m----> 1\u001b[0m \u001b[43ml3\u001b[49m\n",
      "\u001b[0;31mNameError\u001b[0m: name 'l3' is not defined"
     ]
    }
   ],
   "source": [
    "l3"
   ]
  },
  {
   "cell_type": "code",
   "execution_count": 173,
   "id": "4105d6ce-b40f-4e99-b0ee-ab6e37aa65b0",
   "metadata": {},
   "outputs": [
    {
     "data": {
      "text/plain": [
       "'my name is shivam'"
      ]
     },
     "execution_count": 173,
     "metadata": {},
     "output_type": "execute_result"
    }
   ],
   "source": [
    "s2"
   ]
  },
  {
   "cell_type": "code",
   "execution_count": 174,
   "id": "ab2d1477-bea3-4c6c-a95e-1a49215f1382",
   "metadata": {},
   "outputs": [],
   "source": [
    "del s2"
   ]
  },
  {
   "cell_type": "code",
   "execution_count": 175,
   "id": "0e528ec7-bd24-4f21-acc1-e93f9a1ec36c",
   "metadata": {},
   "outputs": [
    {
     "ename": "NameError",
     "evalue": "name 's2' is not defined",
     "output_type": "error",
     "traceback": [
      "\u001b[0;31m---------------------------------------------------------------------------\u001b[0m",
      "\u001b[0;31mNameError\u001b[0m                                 Traceback (most recent call last)",
      "Cell \u001b[0;32mIn[175], line 1\u001b[0m\n\u001b[0;32m----> 1\u001b[0m \u001b[43ms2\u001b[49m\n",
      "\u001b[0;31mNameError\u001b[0m: name 's2' is not defined"
     ]
    }
   ],
   "source": [
    "s2"
   ]
  },
  {
   "cell_type": "code",
   "execution_count": 179,
   "id": "1bde8157-52ea-4288-8677-19b8e6f21ccf",
   "metadata": {},
   "outputs": [
    {
     "ename": "ValueError",
     "evalue": "list.remove(x): x not in list",
     "output_type": "error",
     "traceback": [
      "\u001b[0;31m---------------------------------------------------------------------------\u001b[0m",
      "\u001b[0;31mValueError\u001b[0m                                Traceback (most recent call last)",
      "Cell \u001b[0;32mIn[179], line 1\u001b[0m\n\u001b[0;32m----> 1\u001b[0m \u001b[43ml2\u001b[49m\u001b[38;5;241;43m.\u001b[39;49m\u001b[43mremove\u001b[49m\u001b[43m(\u001b[49m\u001b[38;5;124;43m'\u001b[39;49m\u001b[38;5;124;43mz\u001b[39;49m\u001b[38;5;124;43m'\u001b[39;49m\u001b[43m)\u001b[49m\n",
      "\u001b[0;31mValueError\u001b[0m: list.remove(x): x not in list"
     ]
    }
   ],
   "source": [
    "l2.remove('z')"
   ]
  },
  {
   "cell_type": "code",
   "execution_count": 178,
   "id": "dea6b2b1-f2f2-4d28-8f56-d94c4b2e47af",
   "metadata": {},
   "outputs": [
    {
     "data": {
      "text/plain": [
       "[300,\n",
       " 4,\n",
       " 'sudh',\n",
       " 5,\n",
       " 'pwskills',\n",
       " 'shiv',\n",
       " 'u',\n",
       " 'd',\n",
       " 'h',\n",
       " 'sudh',\n",
       " 's',\n",
       " 'u',\n",
       " 'd',\n",
       " 'h']"
      ]
     },
     "execution_count": 178,
     "metadata": {},
     "output_type": "execute_result"
    }
   ],
   "source": [
    "l2"
   ]
  },
  {
   "cell_type": "code",
   "execution_count": 180,
   "id": "75916b12-cc7e-42e5-b6bc-5b5f3f135c5f",
   "metadata": {},
   "outputs": [
    {
     "ename": "IndexError",
     "evalue": "pop index out of range",
     "output_type": "error",
     "traceback": [
      "\u001b[0;31m---------------------------------------------------------------------------\u001b[0m",
      "\u001b[0;31mIndexError\u001b[0m                                Traceback (most recent call last)",
      "Cell \u001b[0;32mIn[180], line 1\u001b[0m\n\u001b[0;32m----> 1\u001b[0m \u001b[43ml2\u001b[49m\u001b[38;5;241;43m.\u001b[39;49m\u001b[43mpop\u001b[49m\u001b[43m(\u001b[49m\u001b[38;5;241;43m10000\u001b[39;49m\u001b[43m)\u001b[49m\n",
      "\u001b[0;31mIndexError\u001b[0m: pop index out of range"
     ]
    }
   ],
   "source": [
    "l2.pop(10000)"
   ]
  },
  {
   "cell_type": "code",
   "execution_count": 181,
   "id": "f57ae0b4-2884-4898-88e4-f58b37b23422",
   "metadata": {},
   "outputs": [
    {
     "data": {
      "text/plain": [
       "[1,\n",
       " 2,\n",
       " 3,\n",
       " 'pwskills',\n",
       " 4,\n",
       " 5,\n",
       " 'shivam',\n",
       " 'vaid',\n",
       " (3+6j),\n",
       " 345.456,\n",
       " True,\n",
       " [3, 4, 5, 6],\n",
       " 'sudg']"
      ]
     },
     "execution_count": 181,
     "metadata": {},
     "output_type": "execute_result"
    }
   ],
   "source": [
    "l1"
   ]
  },
  {
   "cell_type": "code",
   "execution_count": 182,
   "id": "4465b5e0-0644-430a-8dea-833494d03f1c",
   "metadata": {},
   "outputs": [
    {
     "data": {
      "text/plain": [
       "[300,\n",
       " 4,\n",
       " 'sudh',\n",
       " 5,\n",
       " 'pwskills',\n",
       " 'shiv',\n",
       " 'u',\n",
       " 'd',\n",
       " 'h',\n",
       " 'sudh',\n",
       " 's',\n",
       " 'u',\n",
       " 'd',\n",
       " 'h']"
      ]
     },
     "execution_count": 182,
     "metadata": {},
     "output_type": "execute_result"
    }
   ],
   "source": [
    "l2"
   ]
  },
  {
   "cell_type": "code",
   "execution_count": 183,
   "id": "5fd1e332-ccc1-4805-adb4-08e558e5a712",
   "metadata": {},
   "outputs": [],
   "source": [
    "l1.clear()"
   ]
  },
  {
   "cell_type": "code",
   "execution_count": 184,
   "id": "f5d766ac-a7e8-46c0-8533-1a0283a71fd3",
   "metadata": {},
   "outputs": [
    {
     "data": {
      "text/plain": [
       "[]"
      ]
     },
     "execution_count": 184,
     "metadata": {},
     "output_type": "execute_result"
    }
   ],
   "source": [
    "l1"
   ]
  },
  {
   "cell_type": "code",
   "execution_count": 185,
   "id": "b4fd8cc6-c580-483c-9741-d786da48fd94",
   "metadata": {},
   "outputs": [
    {
     "data": {
      "text/plain": [
       "[300,\n",
       " 4,\n",
       " 'sudh',\n",
       " 5,\n",
       " 'pwskills',\n",
       " 'shiv',\n",
       " 'u',\n",
       " 'd',\n",
       " 'h',\n",
       " 'sudh',\n",
       " 's',\n",
       " 'u',\n",
       " 'd',\n",
       " 'h']"
      ]
     },
     "execution_count": 185,
     "metadata": {},
     "output_type": "execute_result"
    }
   ],
   "source": [
    "l2"
   ]
  },
  {
   "cell_type": "code",
   "execution_count": 187,
   "id": "9a96e069-bbe8-4140-aa19-9aaa2e18d293",
   "metadata": {},
   "outputs": [
    {
     "data": {
      "text/plain": [
       "1"
      ]
     },
     "execution_count": 187,
     "metadata": {},
     "output_type": "execute_result"
    }
   ],
   "source": [
    "l2.count('s')"
   ]
  },
  {
   "cell_type": "code",
   "execution_count": 188,
   "id": "884e01ce-8bf4-4c12-a89f-f0de202cc612",
   "metadata": {
    "tags": []
   },
   "outputs": [
    {
     "data": {
      "text/plain": [
       "10"
      ]
     },
     "execution_count": 188,
     "metadata": {},
     "output_type": "execute_result"
    }
   ],
   "source": [
    "l2.index('s')"
   ]
  },
  {
   "cell_type": "code",
   "execution_count": 190,
   "id": "204ac3ff-d2c6-466e-ba15-e8229b7a2fb0",
   "metadata": {},
   "outputs": [
    {
     "data": {
      "text/plain": [
       "[300,\n",
       " 4,\n",
       " 'sudh',\n",
       " 5,\n",
       " 'pwskills',\n",
       " 'shiv',\n",
       " 'u',\n",
       " 'd',\n",
       " 'h',\n",
       " 'sudh',\n",
       " 's',\n",
       " 'u',\n",
       " 'd',\n",
       " 'h']"
      ]
     },
     "execution_count": 190,
     "metadata": {},
     "output_type": "execute_result"
    }
   ],
   "source": [
    "l2"
   ]
  },
  {
   "cell_type": "code",
   "execution_count": 191,
   "id": "fcc027aa-1a3c-4b3a-9f30-a12ae31e142f",
   "metadata": {},
   "outputs": [],
   "source": [
    "l2.reverse()"
   ]
  },
  {
   "cell_type": "code",
   "execution_count": 192,
   "id": "9bbda444-b069-4ddd-82ac-726829a79dd0",
   "metadata": {},
   "outputs": [
    {
     "data": {
      "text/plain": [
       "['h',\n",
       " 'd',\n",
       " 'u',\n",
       " 's',\n",
       " 'sudh',\n",
       " 'h',\n",
       " 'd',\n",
       " 'u',\n",
       " 'shiv',\n",
       " 'pwskills',\n",
       " 5,\n",
       " 'sudh',\n",
       " 4,\n",
       " 300]"
      ]
     },
     "execution_count": 192,
     "metadata": {},
     "output_type": "execute_result"
    }
   ],
   "source": [
    "l2"
   ]
  },
  {
   "cell_type": "code",
   "execution_count": 193,
   "id": "0f0edce5-ed5e-4dd2-b810-a1ffe83e6de8",
   "metadata": {},
   "outputs": [
    {
     "ename": "TypeError",
     "evalue": "'<' not supported between instances of 'int' and 'str'",
     "output_type": "error",
     "traceback": [
      "\u001b[0;31m---------------------------------------------------------------------------\u001b[0m",
      "\u001b[0;31mTypeError\u001b[0m                                 Traceback (most recent call last)",
      "Cell \u001b[0;32mIn[193], line 1\u001b[0m\n\u001b[0;32m----> 1\u001b[0m \u001b[43ml2\u001b[49m\u001b[38;5;241;43m.\u001b[39;49m\u001b[43msort\u001b[49m\u001b[43m(\u001b[49m\u001b[43m)\u001b[49m\n",
      "\u001b[0;31mTypeError\u001b[0m: '<' not supported between instances of 'int' and 'str'"
     ]
    }
   ],
   "source": [
    "l2.sort()"
   ]
  },
  {
   "cell_type": "code",
   "execution_count": 194,
   "id": "7726b4f3-d06b-44a3-a0db-36a21a9cbaca",
   "metadata": {},
   "outputs": [
    {
     "data": {
      "text/plain": [
       "['d',\n",
       " 'd',\n",
       " 'h',\n",
       " 'h',\n",
       " 'pwskills',\n",
       " 's',\n",
       " 'shiv',\n",
       " 'sudh',\n",
       " 'u',\n",
       " 'u',\n",
       " 5,\n",
       " 'sudh',\n",
       " 4,\n",
       " 300]"
      ]
     },
     "execution_count": 194,
     "metadata": {},
     "output_type": "execute_result"
    }
   ],
   "source": [
    "l2"
   ]
  },
  {
   "cell_type": "code",
   "execution_count": 195,
   "id": "538a79d6-34b5-415c-a4c0-2a7be187c1ff",
   "metadata": {},
   "outputs": [
    {
     "data": {
      "text/plain": [
       "['d',\n",
       " 'd',\n",
       " 'h',\n",
       " 'h',\n",
       " 'pwskills',\n",
       " 's',\n",
       " 'shiv',\n",
       " 'sudh',\n",
       " 'u',\n",
       " 'u',\n",
       " 5,\n",
       " 'sudh',\n",
       " 4,\n",
       " 300]"
      ]
     },
     "execution_count": 195,
     "metadata": {},
     "output_type": "execute_result"
    }
   ],
   "source": [
    "l2"
   ]
  },
  {
   "cell_type": "code",
   "execution_count": 205,
   "id": "6ae1daa9-bf1f-4c84-8090-a2e37aede953",
   "metadata": {},
   "outputs": [],
   "source": [
    "l3= [2,3,4,1,3,2,5,67]\n",
    "l5 = list(set(l3)).sort()"
   ]
  },
  {
   "cell_type": "code",
   "execution_count": 200,
   "id": "88d95013-29d7-4c23-b336-423825e6276e",
   "metadata": {},
   "outputs": [],
   "source": [
    "l3.sort()"
   ]
  },
  {
   "cell_type": "code",
   "execution_count": 201,
   "id": "c545f959-7d22-4573-914e-f31c141b981e",
   "metadata": {},
   "outputs": [
    {
     "data": {
      "text/plain": [
       "[2, 3, 4, 5, 67]"
      ]
     },
     "execution_count": 201,
     "metadata": {},
     "output_type": "execute_result"
    }
   ],
   "source": [
    "l3"
   ]
  },
  {
   "cell_type": "code",
   "execution_count": 202,
   "id": "88524336-507d-4426-93cd-034582222c78",
   "metadata": {},
   "outputs": [],
   "source": [
    "l4 = [\"shivam\",\"vaid\",\"abvd\"]"
   ]
  },
  {
   "cell_type": "code",
   "execution_count": 203,
   "id": "1f74380f-505d-4423-9ab7-02b14a5d7f50",
   "metadata": {},
   "outputs": [],
   "source": [
    "l4.sort(reverse=True)"
   ]
  },
  {
   "cell_type": "code",
   "execution_count": 204,
   "id": "1f0b192b-b9f2-4c52-a0dd-ee044eb85dbb",
   "metadata": {},
   "outputs": [
    {
     "data": {
      "text/plain": [
       "['vaid', 'shivam', 'abvd']"
      ]
     },
     "execution_count": 204,
     "metadata": {},
     "output_type": "execute_result"
    }
   ],
   "source": [
    "l4"
   ]
  },
  {
   "cell_type": "code",
   "execution_count": 207,
   "id": "f447203c-978d-4d91-8738-f9fe61c2a2ab",
   "metadata": {},
   "outputs": [],
   "source": [
    "list(set(l3)).sort()"
   ]
  },
  {
   "cell_type": "code",
   "execution_count": 208,
   "id": "da6a331b-cd9f-41c4-aa26-6e7f9377a8a4",
   "metadata": {},
   "outputs": [
    {
     "data": {
      "text/plain": [
       "[2, 3, 4, 1, 3, 2, 5, 67]"
      ]
     },
     "execution_count": 208,
     "metadata": {},
     "output_type": "execute_result"
    }
   ],
   "source": [
    "l3"
   ]
  },
  {
   "cell_type": "code",
   "execution_count": 209,
   "id": "ca39da03-569c-47ae-9c3f-a57e3bb7dd5c",
   "metadata": {},
   "outputs": [],
   "source": [
    "l4 = set(l3)"
   ]
  },
  {
   "cell_type": "code",
   "execution_count": 216,
   "id": "03bdc0d9-1613-4c8d-9994-a982be029b60",
   "metadata": {},
   "outputs": [],
   "source": [
    "l6 = list(l4)"
   ]
  },
  {
   "cell_type": "code",
   "execution_count": 219,
   "id": "3e946d73-c764-413a-a0a7-7389f8844a0b",
   "metadata": {},
   "outputs": [],
   "source": [
    "l6.sort()"
   ]
  },
  {
   "cell_type": "code",
   "execution_count": 220,
   "id": "dec97dff-3590-4a89-ac06-ead14e8e645e",
   "metadata": {},
   "outputs": [
    {
     "data": {
      "text/plain": [
       "[1, 2, 3, 4, 5, 67]"
      ]
     },
     "execution_count": 220,
     "metadata": {},
     "output_type": "execute_result"
    }
   ],
   "source": [
    "l6"
   ]
  },
  {
   "cell_type": "code",
   "execution_count": 221,
   "id": "45ebbb20-da42-4fe4-b32f-766d39ea6dcc",
   "metadata": {},
   "outputs": [],
   "source": [
    "l0 = [2,3,4,5]"
   ]
  },
  {
   "cell_type": "code",
   "execution_count": 222,
   "id": "7aaf12a7-f534-455f-9620-3e3fe9044f10",
   "metadata": {},
   "outputs": [],
   "source": [
    "l1 = l0"
   ]
  },
  {
   "cell_type": "code",
   "execution_count": 223,
   "id": "2401ce20-c94a-4435-a312-1905c353c266",
   "metadata": {},
   "outputs": [
    {
     "data": {
      "text/plain": [
       "[2, 3, 4, 5]"
      ]
     },
     "execution_count": 223,
     "metadata": {},
     "output_type": "execute_result"
    }
   ],
   "source": [
    "l1"
   ]
  },
  {
   "cell_type": "code",
   "execution_count": 224,
   "id": "6345e69c-41e0-406a-8a1d-2f5f7eeb1b4c",
   "metadata": {},
   "outputs": [
    {
     "data": {
      "text/plain": [
       "[2, 3, 4, 5]"
      ]
     },
     "execution_count": 224,
     "metadata": {},
     "output_type": "execute_result"
    }
   ],
   "source": [
    "l0"
   ]
  },
  {
   "cell_type": "code",
   "execution_count": 226,
   "id": "fd7e2a53-4802-46f6-beaf-52bdf01ec26a",
   "metadata": {},
   "outputs": [],
   "source": [
    "l0[0] = 200"
   ]
  },
  {
   "cell_type": "code",
   "execution_count": 227,
   "id": "58108075-bc9a-45e5-8145-a7bdd540c53e",
   "metadata": {},
   "outputs": [
    {
     "data": {
      "text/plain": [
       "[200, 3, 4, 5]"
      ]
     },
     "execution_count": 227,
     "metadata": {},
     "output_type": "execute_result"
    }
   ],
   "source": [
    "l1"
   ]
  },
  {
   "cell_type": "code",
   "execution_count": 228,
   "id": "6aea9b9d-1821-49da-9286-4f01f5cbd213",
   "metadata": {},
   "outputs": [],
   "source": [
    "l2 = l0.copy()"
   ]
  },
  {
   "cell_type": "code",
   "execution_count": 229,
   "id": "a83e0f7b-eed3-49d4-b48f-be28803e7b02",
   "metadata": {},
   "outputs": [
    {
     "data": {
      "text/plain": [
       "[200, 3, 4, 5]"
      ]
     },
     "execution_count": 229,
     "metadata": {},
     "output_type": "execute_result"
    }
   ],
   "source": [
    "l1"
   ]
  },
  {
   "cell_type": "code",
   "execution_count": 230,
   "id": "72a01fd7-220a-46ca-8dbb-d6b513156a4b",
   "metadata": {},
   "outputs": [
    {
     "data": {
      "text/plain": [
       "[200, 3, 4, 5]"
      ]
     },
     "execution_count": 230,
     "metadata": {},
     "output_type": "execute_result"
    }
   ],
   "source": [
    "l2"
   ]
  },
  {
   "cell_type": "code",
   "execution_count": 231,
   "id": "b5167530-b2c2-4d87-9b05-4c2f6e1da6a8",
   "metadata": {},
   "outputs": [
    {
     "data": {
      "text/plain": [
       "[200, 3, 4, 5]"
      ]
     },
     "execution_count": 231,
     "metadata": {},
     "output_type": "execute_result"
    }
   ],
   "source": [
    "l0"
   ]
  },
  {
   "cell_type": "code",
   "execution_count": 232,
   "id": "d14d24bc-c536-4dd2-8d31-c7460b9fdfe8",
   "metadata": {},
   "outputs": [],
   "source": [
    "l0[1] = 300"
   ]
  },
  {
   "cell_type": "code",
   "execution_count": 233,
   "id": "e42d6032-f68b-49bc-b171-4da52de32919",
   "metadata": {},
   "outputs": [
    {
     "data": {
      "text/plain": [
       "[200, 300, 4, 5]"
      ]
     },
     "execution_count": 233,
     "metadata": {},
     "output_type": "execute_result"
    }
   ],
   "source": [
    "l0"
   ]
  },
  {
   "cell_type": "code",
   "execution_count": 234,
   "id": "e55c7ff7-6444-4d9d-b843-fb229d8f77d9",
   "metadata": {},
   "outputs": [
    {
     "data": {
      "text/plain": [
       "[200, 3, 4, 5]"
      ]
     },
     "execution_count": 234,
     "metadata": {},
     "output_type": "execute_result"
    }
   ],
   "source": [
    "l2"
   ]
  },
  {
   "cell_type": "code",
   "execution_count": 235,
   "id": "110f1767-9dae-4984-90ce-11662f62b51d",
   "metadata": {},
   "outputs": [
    {
     "data": {
      "text/plain": [
       "(1, 23, 4, 'shiv', 'vaid', (4+56j), True)"
      ]
     },
     "execution_count": 235,
     "metadata": {},
     "output_type": "execute_result"
    }
   ],
   "source": [
    "t"
   ]
  },
  {
   "cell_type": "code",
   "execution_count": 236,
   "id": "39fe7e55-a006-4679-b541-3a1bd22a6af6",
   "metadata": {},
   "outputs": [
    {
     "data": {
      "text/plain": [
       "1"
      ]
     },
     "execution_count": 236,
     "metadata": {},
     "output_type": "execute_result"
    }
   ],
   "source": [
    "t.count(4)"
   ]
  },
  {
   "cell_type": "code",
   "execution_count": 237,
   "id": "2602ddeb-5929-4964-80f0-9231fa0811d3",
   "metadata": {},
   "outputs": [
    {
     "data": {
      "text/plain": [
       "3"
      ]
     },
     "execution_count": 237,
     "metadata": {},
     "output_type": "execute_result"
    }
   ],
   "source": [
    "t.index('shiv')"
   ]
  },
  {
   "cell_type": "code",
   "execution_count": 238,
   "id": "aba99770-1213-4ae7-bde1-401107a56b1e",
   "metadata": {},
   "outputs": [
    {
     "data": {
      "text/plain": [
       "'pwskills'"
      ]
     },
     "execution_count": 238,
     "metadata": {},
     "output_type": "execute_result"
    }
   ],
   "source": [
    "s1"
   ]
  },
  {
   "cell_type": "code",
   "execution_count": 239,
   "id": "1ed41a42-746a-4360-9736-c1cf1af38861",
   "metadata": {},
   "outputs": [
    {
     "data": {
      "text/plain": [
       "{}"
      ]
     },
     "execution_count": 239,
     "metadata": {},
     "output_type": "execute_result"
    }
   ],
   "source": [
    "s"
   ]
  },
  {
   "cell_type": "code",
   "execution_count": 240,
   "id": "71a2cf69-3cd7-4eb9-b37c-cca922cb469a",
   "metadata": {},
   "outputs": [],
   "source": [
    "s={3,4,55,6,7,44,8,8,8}"
   ]
  },
  {
   "cell_type": "code",
   "execution_count": 241,
   "id": "93971aa3-c5fe-4c8f-915c-af1fac42fbcd",
   "metadata": {},
   "outputs": [
    {
     "data": {
      "text/plain": [
       "set"
      ]
     },
     "execution_count": 241,
     "metadata": {},
     "output_type": "execute_result"
    }
   ],
   "source": [
    "type(s)"
   ]
  },
  {
   "cell_type": "code",
   "execution_count": 242,
   "id": "612b7af0-b5b2-4022-8d05-150ab2f258df",
   "metadata": {},
   "outputs": [
    {
     "data": {
      "text/plain": [
       "{3, 4, 6, 7, 8, 44, 55}"
      ]
     },
     "execution_count": 242,
     "metadata": {},
     "output_type": "execute_result"
    }
   ],
   "source": [
    "s"
   ]
  },
  {
   "cell_type": "code",
   "execution_count": 243,
   "id": "7dd5fbb4-96e2-4f0e-8be9-1e0583ac36a9",
   "metadata": {},
   "outputs": [],
   "source": [
    "s.add(4)"
   ]
  },
  {
   "cell_type": "code",
   "execution_count": 244,
   "id": "f51feaf9-014c-4aeb-868f-09eaa193fe26",
   "metadata": {},
   "outputs": [],
   "source": [
    "s.discard(3)"
   ]
  },
  {
   "cell_type": "code",
   "execution_count": 245,
   "id": "d484ffb8-fbf9-451f-9670-316fef9b94ea",
   "metadata": {},
   "outputs": [
    {
     "data": {
      "text/plain": [
       "{4, 6, 7, 8, 44, 55}"
      ]
     },
     "execution_count": 245,
     "metadata": {},
     "output_type": "execute_result"
    }
   ],
   "source": [
    "s"
   ]
  },
  {
   "cell_type": "code",
   "execution_count": 246,
   "id": "263a0de3-f369-4760-a7c0-ce8ec97052f4",
   "metadata": {},
   "outputs": [
    {
     "data": {
      "text/plain": [
       "4"
      ]
     },
     "execution_count": 246,
     "metadata": {},
     "output_type": "execute_result"
    }
   ],
   "source": [
    "s.pop()"
   ]
  },
  {
   "cell_type": "code",
   "execution_count": 247,
   "id": "bbf5ef7d-e198-4ee3-ae53-20baddd26b56",
   "metadata": {},
   "outputs": [
    {
     "data": {
      "text/plain": [
       "55"
      ]
     },
     "execution_count": 247,
     "metadata": {},
     "output_type": "execute_result"
    }
   ],
   "source": [
    "s.pop()"
   ]
  },
  {
   "cell_type": "code",
   "execution_count": 248,
   "id": "3d88f9cd-1f9a-4ab0-8e60-549853830f23",
   "metadata": {},
   "outputs": [
    {
     "data": {
      "text/plain": [
       "6"
      ]
     },
     "execution_count": 248,
     "metadata": {},
     "output_type": "execute_result"
    }
   ],
   "source": [
    "s.pop()"
   ]
  },
  {
   "cell_type": "code",
   "execution_count": 250,
   "id": "2191d7d4-77d3-4487-bfde-28c68333121b",
   "metadata": {},
   "outputs": [],
   "source": [
    "s.remove(44)"
   ]
  },
  {
   "cell_type": "code",
   "execution_count": 251,
   "id": "c20c4589-458e-4c0e-a47a-ec27e1894002",
   "metadata": {},
   "outputs": [
    {
     "data": {
      "text/plain": [
       "{7, 8}"
      ]
     },
     "execution_count": 251,
     "metadata": {},
     "output_type": "execute_result"
    }
   ],
   "source": [
    "s"
   ]
  },
  {
   "cell_type": "code",
   "execution_count": 252,
   "id": "591be92d-f124-47cf-bb9e-76f1b50d89da",
   "metadata": {},
   "outputs": [
    {
     "data": {
      "text/plain": [
       "{}"
      ]
     },
     "execution_count": 252,
     "metadata": {},
     "output_type": "execute_result"
    }
   ],
   "source": [
    "d"
   ]
  },
  {
   "cell_type": "code",
   "execution_count": 253,
   "id": "ee56d2ad-0a29-42dd-bcd9-f2688ca1c69d",
   "metadata": {},
   "outputs": [
    {
     "data": {
      "text/plain": [
       "{'name': 'shivam',\n",
       " 'subject': ['data science', 'big data', 'data analytics'],\n",
       " 'number': 432245}"
      ]
     },
     "execution_count": 253,
     "metadata": {},
     "output_type": "execute_result"
    }
   ],
   "source": [
    "d1"
   ]
  },
  {
   "cell_type": "code",
   "execution_count": 255,
   "id": "2103b7b6-7678-4a39-9730-caf4dc7e316b",
   "metadata": {},
   "outputs": [
    {
     "data": {
      "text/plain": [
       "['name', 'subject', 'number']"
      ]
     },
     "execution_count": 255,
     "metadata": {},
     "output_type": "execute_result"
    }
   ],
   "source": [
    "list(d1.keys())"
   ]
  },
  {
   "cell_type": "code",
   "execution_count": 259,
   "id": "50c52a65-43b1-4655-8b9e-479ff89bbdad",
   "metadata": {},
   "outputs": [
    {
     "data": {
      "text/plain": [
       "['shivam', ['data science', 'big data', 'data analytics'], 432245]"
      ]
     },
     "execution_count": 259,
     "metadata": {},
     "output_type": "execute_result"
    }
   ],
   "source": [
    "list(d1.values())"
   ]
  },
  {
   "cell_type": "code",
   "execution_count": 261,
   "id": "dd236c92-5f9a-46f0-9ef2-9d4def244d8f",
   "metadata": {},
   "outputs": [
    {
     "data": {
      "text/plain": [
       "[('name', 'shivam'),\n",
       " ('subject', ['data science', 'big data', 'data analytics']),\n",
       " ('number', 432245)]"
      ]
     },
     "execution_count": 261,
     "metadata": {},
     "output_type": "execute_result"
    }
   ],
   "source": [
    "list(d1.items())"
   ]
  },
  {
   "cell_type": "code",
   "execution_count": 262,
   "id": "530198c4-ffa1-4331-9281-fabcab5d2f42",
   "metadata": {},
   "outputs": [
    {
     "data": {
      "text/plain": [
       "'shivam'"
      ]
     },
     "execution_count": 262,
     "metadata": {},
     "output_type": "execute_result"
    }
   ],
   "source": [
    "d1.get('name')"
   ]
  },
  {
   "cell_type": "code",
   "execution_count": 263,
   "id": "64a588bb-3934-4583-96ad-2ad10e1abb79",
   "metadata": {},
   "outputs": [
    {
     "data": {
      "text/plain": [
       "'shivam'"
      ]
     },
     "execution_count": 263,
     "metadata": {},
     "output_type": "execute_result"
    }
   ],
   "source": [
    "d1['name']"
   ]
  },
  {
   "cell_type": "code",
   "execution_count": 264,
   "id": "7ca12273-0583-4170-a510-03da6647202a",
   "metadata": {},
   "outputs": [
    {
     "data": {
      "text/plain": [
       "'shivam'"
      ]
     },
     "execution_count": 264,
     "metadata": {},
     "output_type": "execute_result"
    }
   ],
   "source": [
    "d1['name']"
   ]
  },
  {
   "cell_type": "code",
   "execution_count": 266,
   "id": "5c38aee3-3ce8-43ef-a9c4-71b852f97625",
   "metadata": {},
   "outputs": [
    {
     "data": {
      "text/plain": [
       "'shivam'"
      ]
     },
     "execution_count": 266,
     "metadata": {},
     "output_type": "execute_result"
    }
   ],
   "source": [
    "d1.pop('name')"
   ]
  },
  {
   "cell_type": "code",
   "execution_count": 267,
   "id": "e4f10311-a070-4d26-b315-d11e5871b90c",
   "metadata": {},
   "outputs": [
    {
     "data": {
      "text/plain": [
       "{'subject': ['data science', 'big data', 'data analytics'], 'number': 432245}"
      ]
     },
     "execution_count": 267,
     "metadata": {},
     "output_type": "execute_result"
    }
   ],
   "source": [
    "d1"
   ]
  },
  {
   "cell_type": "code",
   "execution_count": 268,
   "id": "655bdbba-feb0-41be-a202-73d328217f24",
   "metadata": {},
   "outputs": [],
   "source": [
    "d1['test'] = 'ashjkdh'"
   ]
  },
  {
   "cell_type": "code",
   "execution_count": 269,
   "id": "a3acf761-bba4-47d4-8003-750ea27bdc1e",
   "metadata": {},
   "outputs": [
    {
     "data": {
      "text/plain": [
       "{'subject': ['data science', 'big data', 'data analytics'],\n",
       " 'number': 432245,\n",
       " 'test': 'ashjkdh'}"
      ]
     },
     "execution_count": 269,
     "metadata": {},
     "output_type": "execute_result"
    }
   ],
   "source": [
    "d1"
   ]
  },
  {
   "cell_type": "code",
   "execution_count": null,
   "id": "bfb2802b-325f-45ce-aa0f-a320ea8ae839",
   "metadata": {},
   "outputs": [],
   "source": []
  }
 ],
 "metadata": {
  "kernelspec": {
   "display_name": "Python 3 (ipykernel)",
   "language": "python",
   "name": "python3"
  },
  "language_info": {
   "codemirror_mode": {
    "name": "ipython",
    "version": 3
   },
   "file_extension": ".py",
   "mimetype": "text/x-python",
   "name": "python",
   "nbconvert_exporter": "python",
   "pygments_lexer": "ipython3",
   "version": "3.10.8"
  }
 },
 "nbformat": 4,
 "nbformat_minor": 5
}
